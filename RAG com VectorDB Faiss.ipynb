{
 "cells": [
  {
   "cell_type": "markdown",
   "id": "9610a69e-e0e4-40dc-96fa-016de8e88ffd",
   "metadata": {},
   "source": [
    "# Importações"
   ]
  },
  {
   "cell_type": "code",
   "execution_count": 1,
   "id": "7a584afc-c637-42e3-b88f-dd988ac5c179",
   "metadata": {},
   "outputs": [],
   "source": [
    "import os\n",
    "from getpass import getpass\n",
    "import torch\n",
    "from unstructured_client import UnstructuredClient\n",
    "from unstructured_client.models import shared, operations\n",
    "from unstructured_client.models.errors import SDKError\n",
    "from unstructured.staging.base import dict_to_elements\n",
    "from langchain_core.documents import Document\n",
    "from langchain.vectorstores import FAISS\n",
    "from langchain.embeddings import HuggingFaceBgeEmbeddings\n",
    "from langchain.llms import HuggingFacePipeline\n",
    "from langchain.prompts import PromptTemplate\n",
    "from transformers import pipeline\n",
    "from langchain_core.output_parsers import StrOutputParser\n",
    "from langchain_core.runnables import RunnablePassthrough\n",
    "from huggingface_hub.hf_api import HfFolder\n",
    "from transformers import AutoTokenizer, AutoModelForCausalLM, BitsAndBytesConfig\n",
    "import warnings\n",
    "warnings.filterwarnings('ignore')"
   ]
  },
  {
   "cell_type": "markdown",
   "id": "541af766-adf5-47e4-94af-56f598ba95f5",
   "metadata": {},
   "source": [
    "# Usando Ferramenta de Tratamento de Dados Não Estruturados"
   ]
  },
  {
   "cell_type": "code",
   "execution_count": 2,
   "id": "7ad70e66-a15b-4187-9f22-a11a47d17498",
   "metadata": {},
   "outputs": [
    {
     "name": "stdin",
     "output_type": "stream",
     "text": [
      "Cole sua api aqui:  ········\n"
     ]
    }
   ],
   "source": [
    "os.environ[\"UNSTRUCTURED_API_KEY\"] = getpass(\"Cole sua api aqui: \")"
   ]
  },
  {
   "cell_type": "code",
   "execution_count": 3,
   "id": "36d3abed-8393-465b-a81b-6f7f1f380da4",
   "metadata": {},
   "outputs": [],
   "source": [
    "unstructured_api_key = os.environ.get(\"UNSTRUCTURED_API_KEY\")"
   ]
  },
  {
   "cell_type": "code",
   "execution_count": 4,
   "id": "0c7e6217-70c5-4fab-afdf-29a674306ab6",
   "metadata": {},
   "outputs": [],
   "source": [
    "client = UnstructuredClient(api_key_auth= unstructured_api_key, server_url=\"https://api.unstructuredapp.io\")"
   ]
  },
  {
   "cell_type": "markdown",
   "id": "2a0fbc57-e5ed-4504-8b5a-b08990101153",
   "metadata": {},
   "source": [
    "## Extraindo dados de Textos de Arquivos PDF"
   ]
  },
  {
   "cell_type": "code",
   "execution_count": 5,
   "id": "85f4d730-53ec-46da-ad18-ef4c9d09dc41",
   "metadata": {},
   "outputs": [],
   "source": [
    "path_file = \"ArticleDSA.pdf\""
   ]
  },
  {
   "cell_type": "code",
   "execution_count": 6,
   "id": "ae20fba6-c123-4215-b5e3-f88ea4cf97b4",
   "metadata": {},
   "outputs": [
    {
     "name": "stderr",
     "output_type": "stream",
     "text": [
      "WARNING: 'split_pdf_cache_tmp_data' does not exist. Using default value '/tmp'.\n",
      "INFO: HTTP Request: POST https://api.unstructuredapp.io/general/v0/general \"HTTP/1.1 200 OK\"\n"
     ]
    }
   ],
   "source": [
    "with open(path_file, \"rb\") as f:\n",
    "    files = shared.Files(content=f.read(), file_name=path_file)\n",
    "    req = shared.PartitionParameters(files = files, chunking_strategy = \"by_title\", max_characters = 512)\n",
    "    partition_request = operations.PartitionRequest(partition_parameters=req)\n",
    "\n",
    "    try:\n",
    "        resp = client.general.partition(request=partition_request)\n",
    "    except SDKError as e:\n",
    "        print(e)"
   ]
  },
  {
   "cell_type": "code",
   "execution_count": 7,
   "id": "bd218bfd-642c-4759-9f85-a162c743973a",
   "metadata": {},
   "outputs": [],
   "source": [
    "elements = dict_to_elements(resp.elements)"
   ]
  },
  {
   "cell_type": "code",
   "execution_count": 8,
   "id": "4f239329-dca7-4a41-aa6a-b1af030d3b52",
   "metadata": {},
   "outputs": [
    {
     "data": {
      "text/plain": [
       "[<unstructured.documents.elements.CompositeElement at 0x7dc94bfe0670>,\n",
       " <unstructured.documents.elements.CompositeElement at 0x7dc94bfe0820>,\n",
       " <unstructured.documents.elements.CompositeElement at 0x7dca78390550>,\n",
       " <unstructured.documents.elements.CompositeElement at 0x7dc94bfaf8b0>,\n",
       " <unstructured.documents.elements.CompositeElement at 0x7dca78393790>,\n",
       " <unstructured.documents.elements.CompositeElement at 0x7dc94bfe9570>,\n",
       " <unstructured.documents.elements.CompositeElement at 0x7dc94bfea4a0>,\n",
       " <unstructured.documents.elements.CompositeElement at 0x7dc94bfea680>,\n",
       " <unstructured.documents.elements.CompositeElement at 0x7dc94bfea860>,\n",
       " <unstructured.documents.elements.CompositeElement at 0x7dc94bfeaa40>,\n",
       " <unstructured.documents.elements.CompositeElement at 0x7dc94bfeaec0>,\n",
       " <unstructured.documents.elements.CompositeElement at 0x7dc94bfeaf80>,\n",
       " <unstructured.documents.elements.CompositeElement at 0x7dc94bfeb160>,\n",
       " <unstructured.documents.elements.CompositeElement at 0x7dc94bfeb340>,\n",
       " <unstructured.documents.elements.CompositeElement at 0x7dc94bfeb7c0>,\n",
       " <unstructured.documents.elements.CompositeElement at 0x7dc94bfeb9a0>,\n",
       " <unstructured.documents.elements.CompositeElement at 0x7dc94bfebb80>]"
      ]
     },
     "execution_count": 8,
     "metadata": {},
     "output_type": "execute_result"
    }
   ],
   "source": [
    "elements"
   ]
  },
  {
   "cell_type": "markdown",
   "id": "599c7ac0-6cce-4fe2-9b85-a8874c6455bd",
   "metadata": {},
   "source": [
    "## Carregando os Vetores dos Dados de Texto no Banco de Dados Vetorial"
   ]
  },
  {
   "cell_type": "code",
   "execution_count": 9,
   "id": "58abd718-969f-4743-bff7-a6b0e64d7ea0",
   "metadata": {},
   "outputs": [],
   "source": [
    "documents = []"
   ]
  },
  {
   "cell_type": "code",
   "execution_count": 10,
   "id": "e28c8840-594c-4f8d-89d1-6e2025b9bfac",
   "metadata": {},
   "outputs": [],
   "source": [
    "for element in elements:\n",
    "    metadados = element.metadata.to_dict()\n",
    "    documents.append(Document(page_content= element.text, metadata= metadados))"
   ]
  },
  {
   "cell_type": "code",
   "execution_count": 11,
   "id": "b9bd4ba6-22e7-451e-87a4-ca2fab5ac5da",
   "metadata": {},
   "outputs": [
    {
     "data": {
      "text/plain": [
       "{'filetype': 'application/pdf',\n",
       " 'languages': ['eng'],\n",
       " 'page_number': 2,\n",
       " 'orig_elements': 'eJy1k09r3DAQxb+K0TkSlqx/7i2lPaYEtrdtWGRpdlfFllxb28029LtXshsKZSk0JEf9Rk8z8x7aPiHoYYCQdt6hdxVqlTRGNwrLVnWYOy6wpkrjjjqh9wJo2zl0U6EBknEmmax5QjbGyflgEszLuTeXeEq7I/jDMWXCmqbNmt/47F06Zkql4JmO0YdUdNstFYzki1RSTtqHm+oPEILIBVDdEHadLKKM0HyZEwxlm3v/CP1mNBbQz1xwkMAmH8PO9maed+MUu3ytJlqxMuDe95AuIyzS+zu0zBwOJ3NYFtsiCAdUOoyZ7MJp6GAq65W3EzyWVdGXE6up3cBXU72PQwVDdTtOEBxMS8WR6s6EBOFo8AylPEQXKxvDnAqvHFRmEfgfxkVSZnge6ZOZJpP8d/hceuWmf4e3V5JrJjusrNljLh3HXcMkFk4rKZmley3eNDxectAt4c/hFaAatqbZNILQa2CVvDA6UevXyu7jt5Mfofqwuf0v2xnjlqnW4TwJYK44w7ruNLZNx6hpudAAb2g7J7KYKhWpV9tXoGu9/hBJBdHXwCp5oe264fyVbD+fz6T4MlsPwYKxxsFwITYOpJv+kcTDL+B/aJA=',\n",
       " 'filename': 'ArticleDSA.pdf'}"
      ]
     },
     "execution_count": 11,
     "metadata": {},
     "output_type": "execute_result"
    }
   ],
   "source": [
    "metadados"
   ]
  },
  {
   "cell_type": "code",
   "execution_count": 12,
   "id": "257018a3-59b0-4ddc-8d6b-1d3fb7902b8a",
   "metadata": {},
   "outputs": [
    {
     "data": {
      "text/plain": [
       "[Document(metadata={'filetype': 'application/pdf', 'languages': ['eng'], 'page_number': 1, 'orig_elements': 'eJy1Uk1v2zAM/SuEzrFhx9+7FduA5dCtwIpdsiKgLcbRIEueJGctiv73UU5XDENPw3bTe+SjSD7uHwVpmsiEg5LiDYgcOzw2sk6akrKkxIGSvq3LpMt6KZtWdtWxERsQEwWUGJA1j2Kw1kllMJBfscYHu4TDidR4Csxsi6JjzTP9Q8lwYjavq5LZ2SoTom6/z6sy3W4gr6q0uNvAC+6atF1xluWvE6uCGeEffKApTnKj7kl/nnkC8cQBSYGGoKw5DBq9P8zO9pyWpVVdNVxCHJWm8DDTqr25FmvDZlxwXKfaCzKjiF/MzBzMMvXk4hSxeKD7OKe4gg/YK60kSoJrVB5202xdQBMIDMJ7hyARdgy1Gr8uWUZoBoVw5YI6Kn7p+O+vNm5V0Gv3f7pUF0PedP0xwaLaJuV2wKSlvk3yruiGsqio6vv/6FKVNhtOz9P84tKKi7J9dq2smzR/hbgo/s6lrsjb+p+5NKORNPHepYW3n77s3vHmgHvQ5OwCFpwKk41BSZ7M2eqzittnrEYVUANNECzHLUyLkXYD31Yzc/i+EIQlMizlI3C0GBVjx4o8YFjTOhis8YsO6GG6MFIN6DfANxAbMFoZSmHnvYXZchlv0bGIm0I9WvDLTI4jXgV1tunvN/MRnUNm6TZO+3T3EyxqMkw=', 'filename': 'ArticleDSA.pdf'}, page_content='A Habilidade Mais Importante na Era da Inteligência Artificial\\n\\nA pandemia do COVID-19 acelerou o ritmo do desenvolvimento digital em todo o mundo, já que tudo, desde reuniões até consultas médicas, ficou online. Isso pode soar como algo super positivo.'),\n",
       " Document(metadata={'filetype': 'application/pdf', 'languages': ['eng'], 'page_number': 1, 'orig_elements': 'eJy1U8tu2zAQ/BVCZ0uwbEmWeivaAL00CJrcnMBYkWubKEUqfLhOgvx7l5QV9HUq2pM1+5zZobcvGSocUPudFNk7lmFblg3Wfd421SaveC3ydr+sclxihRverUWzyhYsG9CDAA/U85JxY6yQGjy6hBU8meB3R5SHo6fIar3uqOcS/iaFP1K0bOqKoqOR2se+7basV8VywdZtVXQPCzbjarUp2og33boof8dTPQUy9+Q8DlHHjTyjuh2BY/ZKCYEeuZdG77gC53ajNT2VLYuGdNZUsJcK/dOIqffmc5bo6kOAQ9K0zVAfsrhipMhOh6FHGzXE4R7PPvWBBSbwGTU4+mWDVMf7sFzua0zYW+hBHUEYi27BdMzh2hRx2bz7TnqVKP9qDC/rbt1zkdfVCvOqazd53yLmtQBe7quq7/6nMVVbNHT4hu6djJlwU7czpszqD4Gp4++s6aq2+0fOXClywIM64fPb2ZlHfYSBkVdH6KWSAgRVaeToXKopraTkGF3lZhjRS0tp55BpczJsCFqYgqXZbh5qHNVqP3tMUMiD/BE75Bb9vIACeEYevDwZypN4HizQ4Pm1GIYDCwPEncCQhptBEgL2GEBF9iNRMjDttRDdJ61pPqmbPoQPKjEbDLsPq2XJr/SB5KO0Jr7M63DCISUEM+FS8gn4V7Qx/YG4cxkfo7kUESeHgSYGa6cNPG4o2G1iy9DtzZTYmEiMY+RGqtI1Sb9FORlR5ioKp9Nz01tpibNJmh6DdNPZmAD25f31R3YVrBlxwTCenE51ghOqSAuJjZ0tECjP1Hhxzk/x0v30N7sGS6eSJ7yLL+T14TvCd5zf', 'filename': 'ArticleDSA.pdf'}, page_content='Para dezenas de milhões de trabalhadores, não.\\n\\nEles talvez não tenham as habilidades necessárias para competir nesse novo mundo. Eles são os contadores, os digitadores, os secretários executivos, procurando trabalho em uma nova economia na qual as pessoas contratadas têm títulos como “Engenheiro de Nuvem” ou “Hacker de Crescimento” em seus currículos. Sem um esforço concentrado para retreiná-los, descobriram os pesquisadores da RAND Europe, eles provavelmente serão deixados para trás.'),\n",
       " Document(metadata={'filetype': 'application/pdf', 'languages': ['eng'], 'page_number': 1, 'orig_elements': 'eJxtUsuO2zAM/BVC58Sw4zzsXtse9tDuAi16SRcBIzMOAVly9UizXey/l1K6bQ975Igz5Iy4f1ZkaCIbDzyod6A2O62pbfrlbtM3y/Vuhcvj9tgvu+2aVl3XN81upxagJoo4YEThPCvtnB/YYqRQaoNPLsXDmXg8R0FWbdsL5w/8k4d4FrTZbtaCzo5tzLz9vtmsqm4B276u2scFvNZdt626Uq/btmrfAG4MQVR4CpGm7OSBr2S+zKhJvcjDQJF0ZGcP2mAIh9m7o7TVVb/ue5FQJzYUn2Yq3IdPqixsx4RjcbVXZEeVR8yCHGyajuSziywe6Zp9qo9gv6e6ptYBzmQxgKQbKrgHnUJ0MFAICNpT0BI5gUGdLAoMZzyy4QGlAwL5otLARAMPDmiC6NmcM3raSIcQhlK0BkUMCDxp5L805AAn52P5Wcp8k8bS+SPRvx1nF0KSR7YnjxSiTzF5WYdHjmhAO3vim+SFzELqSXxp8eCgwDXciby3FMElOJlUULSaEUay5NHwLzmTvMD/Bm8DWILJBF3ffGJZTpplrptEYkp2YNnDpIgwo2wWJDK6oI3oJeBbAgEcjM7MEomD9/ff7j4sG7m2kvTb+eJEWDbdYfYY2SbRmyWeIPeBVnTKtCPy1VX5EF7v4jN6j5Ev9DV/+Mvjb+RUDsI=', 'filename': 'ArticleDSA.pdf'}, page_content='E não apenas eles. O custo dessa crescente lacuna de habilidades será medido em trilhões de dólares e recairá mais fortemente em lugares que não possuem infraestrutura digital confiável, como acesso à Internet ou fluência generalizada em habilidades digitais. À medida que a economia mundial luta para se levantar após o golpe do COVID-19, essa lacuna de habilidades ameaça continuar pressionando para baixo.'),\n",
       " Document(metadata={'filetype': 'application/pdf', 'languages': ['eng'], 'page_number': 1, 'orig_elements': 'eJxtUctu2zAQ/BWCZ1nQy07ZW4EWPTUI6t6cwFiTK2lRiVT4aGME+fcu2fiWG3d2Z2ZneXqVuOCKNp7JyM9CNmps1UGpnTYGdsOgu53CT7gbD6Np20apu8bISsgVIxiIwJxXqZ3zhixEDKVe4OpSPM9I0xwZ6fpeMecd/ksmzoy2h/3A6ObIxsw7ndr9UHeVUF1fD0+VuNVtM3T1vgC9aurDR8h/DiMyXEPENWd5oBdcjhtolG/cMBhRR3L2rBcI4bx5d+GxplZDd2AbOdKC8bph4T78kGVlOyWYSq6TRDvJbLExcrZpvaDPObJ4xJecVD6mrmn1kdZtwZDvisI+pqbB3om5PFqxYQgOgghpJE15JgjtVsHQDBdayIBhyNBEEYh76CP3NvDAXL9SJC9ARA82jM6vUHTvbjbPCbMUrpvHkB8h3lqXFDRY48qWpmKLEFAcYaFFfE8Wwoy/wVdiKQRj0AuDed/nRAEEMsFjdOzOCTSBccKA+Pnl/qv4lrzbsCrurKmd1ZyMN7a8tHsXjKQhK2oqNVjWYFX+F+sWNxHU+ei3P7gH7yHSH/yVj/v29A9Eydwf', 'filename': 'ArticleDSA.pdf'}, page_content='“Simplesmente não há pessoas suficientes com as habilidades digitais certas para permitir a transformação que as empresas estão buscando”, disse Salil Gunashekar, líder de pesquisa e diretor associado da RAND Europe, que se concentra na política de ciência e tecnologia.'),\n",
       " Document(metadata={'filetype': 'application/pdf', 'languages': ['eng'], 'page_number': 1, 'orig_elements': 'eJyNkk1v2zAMhv8KoXNi2LGdj9133Fag2ykrAsZibAGWqOhjS1D0v49y22GHHQoYEPiKfMhX9PFZ0UyWXDoZrT6BOutDo6np1rjHet0NTb8+9LhZb/a0rXf7C7Vtr1agLCXUmFBqntXAHLRxmCgu8Yx3zuk0kRmnJMqmbQ9S8yb/NjpNojbbvhPVs3Gp1B2PTd9WktjUu221e1rBX2HTdlWzCF27rdr/Kq9FIql4j4lscfNgbjQ/ehxIvciFpkRDMuxOw4wxnnzgs6TV1aGvu40kXMxM6e5pqX34opah3ZhxXJwdFblRlRZelJPL9kyhOCnwRLfiVX22gPOYLVgu78rgOIIPP3NdX9qbsRKhSCtgsNlpBi+j4HJPDXgOUGoxDAzGSpjQJargG7gFgZYCgyaYOGCEFPCM8yS7kCYkrsC+kq5ZFhIh0jvZiI0ZkD/EkSGnbMucFfywKFIUYEQINIgpAo3wiDPFC4dBIooDn4PJcM0krKWlkK4ZQxKW5n86cKCivLmPJJ8QbYH4QB4DlvRygpxkRRw5LmTPWhLJDewEFwpF/ijxMUtNAQhtebqqrO59k18xBEzmF30vK3p5+gMXRviF', 'filename': 'ArticleDSA.pdf'}, page_content='Em algum momento nos próximos anos, o mundo passará por um marco importante. O número de horas trabalhadas pelas máquinas será igual ao número de horas trabalhadas pelos humanos. Uma pesquisa recente da Salesforce descobriu que três quartos dos trabalhadores do mundo se sentem despreparados para os empregos que podem encontrar do outro lado desse marco.'),\n",
       " Document(metadata={'filetype': 'application/pdf', 'languages': ['eng'], 'page_number': 1, 'orig_elements': 'eJx9Uk1v2zAM/SuEzonhxI7T7NZhlx02FNh2yoqAlhiHg/UxSe4SFP3vo5xuLVBsF1t84nt8JLV/VDSSJZcPbNQ7UFtqdYtbWtYrXC3bbV8v0RAtTW+o67Df6KZVC1CWMhrMKJxHpb2Phh1mSnM84sVP+XAiHk5ZkHXT7ITzDP9ik0+CrrpNK2jw7HLh7ferdltJ4mrdddXN/QL+Au26qTZXoL35B3IlCaTSJWWypZs7PtP4JaAm9SQXhjLpzN4d9IgpHUL0vaTV1W5TF4NHHilfAs3Uu09q9uyGCYe5sb0iN6hSIQhycJPtKZZGinamc2lV3f6cZKIJ5AdB2PQDLeSIPY4njEAWpDKn/H2qa0KnGcHO551hjeAnSBQfeIa2PsFR5uo0cfRpAcGLwplsGH0JjKiFSJqTKCcUN6C99TCVWE5hkiX5KG4kgI8u08jDq8K3MfOR5TRW8Nq3ofTWtmVHEa++5m/jJRHKQ+D0HzM+CC2CjLqwjm0CAnQ4znnveYAP8owq+GYl3c1+Z7EyBsg+Osl6FilXcjHZF7ES45S9fWtMlqspJZ+qssc/a/2MMWLmB/pa9vV0/xsy0fwH', 'filename': 'ArticleDSA.pdf'}, page_content='Aqueles que planejam trabalhar em assistência médica ou serviços financeiros, por exemplo, podem precisar saber como usar computadores com Inteligência Artificial. Aqueles que desejam trabalhar em mineração de metais podem precisar saber como operar robôs e analisar Big Data. Um contador pode ser tornar o operador de um robô de automação de processos.'),\n",
       " Document(metadata={'filetype': 'application/pdf', 'languages': ['eng'], 'page_number': 1, 'orig_elements': 'eJx9Uk1v2zAM/SuEgd0Sw86Hk/S8HLcW6G5ZETASbQuQRVeSs2RF//soJR16GHaxoSe+9/goHt4KsjSQi0ejiwco6sV6R1TjvG5UPV8tFs18u9mped2qqtpuVottuy1mUAwUUWNE4bwVitlr4zBSyGeLV57isSfT9VGQxXK5E84d/mV07AWtm/VK0JGNi4l3ONTrqpTCetVU5fZlBn+BZrcsdxlYNZuy+idyIwlUhGuINKQ0T+ZC9nlERcW7XGiKpKJhd1QWQziOnk9SJh7rdZ16aY2leB0pc5++Fblp103Y5WSHglxXJItRkKObhhP5lCSJR7qkrMVjAPtzqirSmjwFoGGUH3qDJgBa8hEH6HNFDeg4wOtEwPl7JhogQWry/iaiJitnlw9LBsVe1EZ2mgBvJJFXJoho5p6lup2ckpQ3D284lPAI6aS000YRCHmv2PFgEAieWRnSKOBX05mIFjTCfvI8olQGxSdvJhAXWZO8K5R9XycMBE31BTTfY3aoOWcO8aPhSE4zpEnLnmGAET2mlsmpnjycsRNQZ1+Zj+IBFEqTslt5MmhNa5TISob9TPKB+KOLPAPheZL71HnSdTp74iD1nyYmMprMRWxlQhLG9viQhKPnNDHRRlDGKf7Ps3WWT+mvzW+hpPCfEsp2yatiiomAU+QB89Xmo0CnN2JFIaQ5QURPbQotNzJ/zF8tsaQh6eVuXKbl+9jF7+g9RnOmH2nJ3l/+AOplO1Q=', 'filename': 'ArticleDSA.pdf'}, page_content='Os líderes empresariais alertam há anos que o que veem nos currículos não corresponde ao que precisam em novos funcionários. O Índice de Economia e Sociedade Digital da Europa descobriu recentemente que quase 60% dos empregadores estão tendo problemas para preencher vagas digitais com candidatos qualificados. E, no entanto, as realidades pandêmicas não os deixaram escolha: quatro em cada cinco líderes empresariais globais dizem que estão acelerando a automação de processos e tarefas do dia a dia dentro da'),\n",
       " Document(metadata={'filetype': 'application/pdf', 'languages': ['eng'], 'page_number': 1, 'orig_elements': 'eJx9Uk1v2zAM/SuEgd2SwG6+e16OWwt0t6wIGIq2BdiiK8lZsqL/fZSSDD0Mu9jQE997fBT37wV33LOLB2uKRyg2VJdVRfWUtuvNdLGpHqZHYjPdcF1RWR9pW82LCRQ9RzQYUTnvBYl4Yx1GDvnc4UXGeGjZNm1U5GE+3yrnBv+yJraKVqvlQtFBrIuJt99Xy3KmhdViVc42rxP4C6y289k2A4vVelb+E7mSFCrCJUTuU5pne+buZUDi4kMvDEemaMUdqMMQDoOXo5apx3JZpV5q23G8DJy5z9+K3LRrRmxysn3BrimSxaDIwY39kX1KksQjn1PW4ilA93MsSzaGPQfgftAfeos2AHbsI/bQ5ooK0EmAt5FB8vfE3EOCaPT+KkJjp2eXD3MBEq9qgzjDgFeSypMNKpq5J62uR0ea8urhrYQZPEE6kXHGEoOSdyROeovA8CJk2aCCX21jI3ZgEHajlwG1MpAcvR1BXXRN8q5w9n0bMTCsyi9g5BazQSM5c4j3hiM7I5AmrXuGAQb0mFpmRy17OGGjoMm+Oh+SHgi1Sd2tPBnsbG1JZTXDbqL5QP3RRZmA8jzrfeo86TqTPbHX+k8TUxnD9qy2OiEN07X4mISjlzQx1UYg60j+82xNJ8f0N/a3UlL4Twl1u/RVMcVEwDFKj/lqfS8w6Y2EOIQ0J4jouU6h9Ubnj/lrNJY2pL3cjGdp+e67+B29x2hP/CMt2cfrH4/VPKE=', 'is_continuation': True, 'filename': 'ArticleDSA.pdf'}, page_content='empresa.'),\n",
       " Document(metadata={'filetype': 'application/pdf', 'languages': ['eng'], 'page_number': 1, 'orig_elements': 'eJxtUstu2zAQ/JWF0KMtWLJsR7nlA5IGcHtyA2NFrqQFRFLlw7UR5N+7lJOeCgiSuJyZnVny9F7QRIZsPLMuHqHo+33d63671k3XrZtq87Bu26pd76u26Q7tvtaqLlZQGIqoMaJw3gvlnNdsMVJY1hPeXIrnkXgYo1Tq7bYVzmf5D+s4SrXa7xqpzo5tzLzTqWqaslpBdagP5fZtBf8KbV1/Faq63Py3cidJqQi3EMnkNK98pek4o6LiQzY0RVKRnT2rCUM4z951AtuUbdMeZL/nieJtpoX6+lwsnu2QcFiCnQqyQ5E7zFI522Q68jlI1o50zVGLpwCzZ6t4Rg5AyllnGANoByZZeePgPMLsNBmYyWvy8PP4DapqtYPoeRp/pc2m35GQDShPQXE+HyeUSKKLE2DMGGqh3tQPEAjsst46kHaBhsQ+i3sS/Cj6CBOqZBE0wYgdT6xRU1gBhcjGJQGQEXhAGCbXSQcBZqk0RedZdqWJv/DS5eByQtdzCDLJHPJJKTGYPJWQEUpbzbi6/1e9Z4U5/TFNovN8d35l5bLml28KM+VoOSlJPrYDaxdK+A6GgpGpiR05vE9GJe4MiJHBp1k+vxMJzmZny1zRK/QLBpcZ43IQy2AbI34eIas7mYBhmxMG8Cj984nB3WG0gsvLmUJweO9x4Yuoy3N34SkTkxdemS/L1915Qe8lw4V+5Evx8fYXByocew==', 'filename': 'ArticleDSA.pdf'}, page_content='As principais economias do mundo agora podem perder US$ 11,5 trilhões em crescimento potencial até 2028 se não conseguirem preencher a lacuna de habilidades, estimou a empresa global de consultoria e serviços profissionais Accenture. Índia, África do Sul e México serão especialmente atingidos. O mesmo acontecerá com os grupos que menos podem arcar com a perda econômica: idosos, minorias raciais e étnicas e pessoas que vivem em áreas rurais.'),\n",
       " Document(metadata={'filetype': 'application/pdf', 'languages': ['eng'], 'page_number': 1, 'orig_elements': 'eJy1U01v2zAM/SuEz7ER+SvxbgXW3doV625ZEdAWnWiwLE+Ss3TF/vsoOQUGpNihwBDAAZ9IvUeKb/eS0ECaRr9XMvkACTXbQjRYpJ2QeVo2okqbVrbplgqUoq9li02ygkSTR4keueYl6YyxUo3oycV4wGcz+/2R1OHoGcmLouGaC/xTSX9kVNRVyehk1OhD3W4nSpGtVyCaqsyKpxW8ArlgoF6AcpPVbyGXIoYS9+w86dDNgzrT8DhhR8lvPpDkqfPKjPtuQOf2kzUtp62zpsqroLBXA/nniWLtw10SRY+HGQ+xs11C4yEJFBMj+3HWLdnQSbjc0zn0mnyGT9/m9bov7KzhtjNjjEqtOgN38ygVDkDOK43wYybYVqDVcIxJFTmQBKQnSwfjYDKSNDiyMBEPWAYILQL/Zm80hiLaxG9hYAzHduE+K82RjxGhAwyHfJdGFSlmZpcxFX8pDIgjbyy5DG4MaHLaAM9wMivWyuSLVjfb76ih2VxJHs0pElyEaxqOxgJvyMRrwgAa6Gc/WwOSL7bYIidkcG+4oYmGFSjn+IxOFNsN8k7KX+aoMINHFs/zPFgcma4zzGR0LIoTsfyyFij8W+JNtBDbjzwsgBsDOitei5F3dMVErjOtVTOP8svN/Ue4ZWkTrQJ5HJmIEsLUcSHg6/p57NTynCSsCv1eZ4WVed2ge7QWvTrR17AavCPXZuuLarvp03VdstlIYopl1afstVq0ol5v2s3/M1tVZDn7pqqzJhrpEjfbxXtFLTLxRhzz32ezelvU+fttlv9ts2XXlrfN/jH1pz9Xeo2s', 'filename': 'ArticleDSA.pdf'}, page_content='O Fórum Econômico Mundial estima que 85 milhões de empregos podem ser perdidos para a automação nos próximos três anos em mais de uma dúzia de setores. Ao mesmo tempo, espera que surjam 97 milhões de novos empregos melhor adaptados ao futuro do trabalho. No papel, isso deve ser uma vitória. Sem um grande compromisso para reter e retreinar os trabalhadores existentes, descobriu a RAND Europe, será uma perda para os funcionários e uma perda para os\\n\\nempregadores.'),\n",
       " Document(metadata={'filetype': 'application/pdf', 'languages': ['eng'], 'page_number': 2, 'orig_elements': 'eJx1U01v2zAM/SuEz4nhxE687LbDjusKbLesCGiJsTXow9VHlrbofx9lJ0tRdBdLovUe3yOp/UtBmgzZeFCy+AzFsV23Xdtsl3W12i6b9lOzxG0tlrujEBU1hJsNFQsoDEWUGJExL4VwzktlMVKYzhqfXIqHgVQ/RI6s63rHmEv4j5Jx4Ohqu2k4OjplY8bt96umLTm0rjdl/bCA63lTrcrtfG6asv4gMCM4UoSnEMlkJ/fqTPrHiIKKV/4hKZKIytmD0BjCYfSu42tVuWvrdcsXjkpTfBppwt5/KybBtk/YT672Bdm+yClGjhxsMh357C2TRzpnn8Xdr1RVVDsYps0KgtNp2rb5e9xQgKDMqHnFx6RK+BKAzOgpYABehApoIBBE5y16MKgCzFw98dYiSBWiV11SN96ckcDTf35JYsYU4Jis4ALMdF45Tn1mBDef5YzoEQzpwXngRlpJfk5cseTE6iwJCkFJlBQWLBpO9JypM56Vsnaf8mYiCqg8SASNImXNBAN2Ss/oEr5yCyCi6aYMO3OzfsRnutieiPB3kkzKmekjA3yBoZNYZnyTA+JMLawSyHqFM46zuN6jwfeVwwulVlx51soMLnt8z8mDSn5kLY71XTijxw71kDUaIO7pSIvM8Zjo5mqywliuZC6iK+F7gN6dyFuXm5pdTZadZJaLZ2VPFKKy0mXqq/YAJyf+AQj4RflcCH5G7lKzqyTpeK5YS0DNELZU5qG+zvgdeo9RnehnHt7Xh7/981r6', 'filename': 'ArticleDSA.pdf'}, page_content='Não há soluções simples aqui. As empresas precisam se tornar mais ágeis na distribuição e redistribuição de seus funcionários existentes para melhor atender às suas necessidades, em vez de tentar recrutar para sair da lacuna de habilidades. Elas também precisam fazer mais para ajudar esses funcionários a aprender as habilidades técnicas, como programação e análise de dados, e as habilidades interpessoais, como trabalhar em equipe, de que precisam para ter sucesso. Os governos nacionais podem ajudar'),\n",
       " Document(metadata={'filetype': 'application/pdf', 'languages': ['eng'], 'page_number': 2, 'orig_elements': 'eJx1U01v2zAM/SuEz4nhxEmM7LbDjusKbLesCGiJtjXow9VHlrTofx9lJ8tQdBdLovUe3yOpw2tBmgzZeFSy+ARFU2+7tqPdsurqerlpO7FsG5LLpm3XJKnaN+26WEBhKKLEiIx5LYRzXiqLkcJ01nhxKR4HUv0QObKu6z1jruHfSsaBo6vddsPR0SkbM+5wWG2akkPrelvWTwu4nbfVqtzN582mrD8IzAiOFOESIpns5FGdSX8fUVDxxj8kRRJROXsUGkM4jt61fK0q9029bvhCpzTFy0gT9vFrMQm2fcJ+cnUoyPZFTjFy5GiTaclnb5k80jn7LB5+pqqi2sEwbVYQnE7TtsnfbksBgjKj5hWfkyrhcwAyo6eAAXgRKqCBQBCdt+jBoAowc/XEW4sgVYhetUndeXNGAk//+SWJGVOALlnBBZjpvHKc+swIbj7LGdEjGNKD88CNtJL8nLhiyYnVWRIUgpIoKSxYNJzoJVNnPCtl7T7lzUQUUHmQCBpFypoJBmyVntElfOEWQETTThn25m69wxe62p6I8FeSTMqZ6SMDfIGhk1hm/CcHxJlaWCWQ9QpnHGdxvUeD7yuHV0qtuPKslRlc9viekweV/MhaHOu7ckaPLeohazRA3NORFpnjOdHd1WSFsVzJXERXwrcAvTuRty43NbuaLDvJLFfPyp4oRGWly9Q37QFOTvwFEPCL8rkQ/IzctWY3SdLxXLGWgJohbKnMQ32b8Qf0HqM60Y88vG9PfwBUyFwU', 'is_continuation': True, 'filename': 'ArticleDSA.pdf'}, page_content='investindo em programas vocacionais e outros apoios para trabalhadores desalocados.'),\n",
       " Document(metadata={'filetype': 'application/pdf', 'languages': ['eng'], 'page_number': 2, 'orig_elements': 'eJxtUslu20AM/RVCpxawBS2WHffWQw85NAjQ9uQEBjVDyxPMosyixg3y7+XIThoUAQQBQ77H97jsngvSZMjGvZLFFyj61YF6UXVLvOo2y1Vb4xLrg1hut+2BM9TSpi0WUBiKKDEic54L4ZyXymKkML81nlyK+yOp4Rg50rTtljmX8G8l45Gj9bpbcXR0ysbM2+3qrirXC+hWdbm+X8Dre7Opymp+r7q2bD4InBkcKcIpRDK5k1v1RPrHiIKKF05IiiSicnYvNIawH73rGVaV265prhhwUJriaaSZe/u9mA3bIeEwd7UryA5Flhg5srfJ9ORzb7l4pKfcZ/HLwMjFHSgzOh/RRoJAXiFICmQnpyfykAzCXWqqWmh1FjCchyP2SiuJDJ2zEoQzySyAgvDERDTgAowUHpMKKJ2nUMJ1lhvQs5bKQo+JQKCVXCgymoDM6Gk4wyGqiUJgPQRDgX3w7MnepaqizfxvHaCDFDDbhEjeuGzDXQx/swNZ3qt32fFNmshcvLr0IeT66zl/MYoPSWK2ydYG8nx3bIphwtno+Zz+cwI4oVbsxePIDeU7pUx91yCbgx4DgcXwfoTzIPi2uWePfygvxrNsfvWoj44nY990Rsps6/gzBBLhgCLpXIfHxxtMIJL3M1xywsGnXJ3xJlnJ/JhQw8Ocr/+V5UMEgypbQc0EboMNTXO6sULh5zJf2evR3aDnEfCCfuZrern/CwdcMkw=', 'filename': 'ArticleDSA.pdf'}, page_content='Um passo importante seria desenvolver uma “linguagem de habilidades” comum, escreveram os pesquisadores. Isso garantiria que candidatos e empregadores tivessem a mesma intenção ao usar um termo como “Engenheiro de Nuvem” ou “Engenheiro de IA”. Isso ajudaria os gerentes de contratação a avaliar rapidamente os candidatos com base nas habilidades que eles trazem para o trabalho e não apenas no nome da faculdade em seu currículo (que no mundo atual já não tem mais qualquer relevância).'),\n",
       " Document(metadata={'filetype': 'application/pdf', 'languages': ['eng'], 'page_number': 2, 'orig_elements': 'eJy1VMFunDAQ/ZUR5wXBYhacWxr10EPbSOltE60Ge8K6ApvYJk0U9d87QKJUbS5Nkwtinmc88+Y92D8k1NNANh6MTk4gIaplg3KbKpXrVOza67RRrUhJNVi3tFM1NskGkoEiaozINQ+Jcs5rYzFSWOIe790UD0cy3TEysi1LyTWP8A+j45HRYlcJRkdnbJzr9vuiKrJ8A01eZ83VBp5iudtlxRILUWfyBWCtYCQJ9yHSMDM5N3fUX4yoKPnJB5oiqWicPageQziM3rWclmdScDUnXJue4v1IS+3552QZ2HYTdgurfUK2S+YWIyMHOw0t+ZnbfHmku5ln8jVA9Nhif0TtPIUN8GY9r8pGt4HRkzIBBxgmjR7ChDBvHnujUVMGp0B6Ung55TnVy7N0YJ9eIvmBdwwDmgDKDTANoM3YuwFBO24UjHUwLOlSGwdu+j1lsuaWfDBxSSi8cdwwwBFbs/YPcDMRsBuYw5LDg2LnPMLoNA3PgwTy4DnvlllxMh9h3002AFoXMjhzgwNUzgbqj+sMHXnmSaCJWSjretcZBJ72DC3qdaB1U7cmsK8c6MnPtwM3p3Az8dZO4HLa5oW6oO8IH5g+9z3ljVpNfjnR2SzZk4Jf0HuMTPnbLA1r9KfRG9HitsxVWsqqSoVAlTa5FKnK27pu66asqXxHo1cZQ1LKrFqNvsRFLraZXIBClFn1ErLWvM7qTV1t5RtZ/cIMGXxktWB1HEv17KXVpGYYnY+LjuxbYidphE8c9qZbHWYV++DUR3Nt+K0/+ScFda1aqUSbFkqVqUCdp5jjNqVCNiVvSxdV/Y4KiqyZ9ambx1/RI1AUcgWqYtX0L2AteZ2CotntmjdS8H++p6tfreLvNQ==', 'filename': 'ArticleDSA.pdf'}, page_content='Os trabalhadores, entretanto, precisam mudar sua mentalidade. A educação não termina mais com um diploma do ensino médio ou um diploma universitário. As habilidades que eles têm agora podem não ser relevantes em alguns anos. Como aconselhou um gerente de tecnologia no Canadá entrevistado durante a pesquisa: “Seja Bom em Aprender”.\\n\\nSim. Esta é a habilidade mais importante na era da Inteligência Artificial:\\n\\n“Seja Bom em Aprender”.'),\n",
       " Document(metadata={'filetype': 'application/pdf', 'languages': ['eng'], 'page_number': 2, 'orig_elements': 'eJxtUstu2zAQ/JUFz7IgWZId9ZYPaBAgvbmBsCbXMguKZEjKjRvk37uUXKMoeiGWw52ZffDwIcjQRDYNWokvIGRHPfad2rTU15u2a+pNj9t2s9u1iB2qftedRAFiooQKEzLnQ0jngtIWE8XlbvDq5jScSY/nxMi2aXrm3OCfWqUzo/Wuaxn1TtuUeYdD3XblQwF13dXl/rWAO9BU+7JdgW1VNv9FVhJDIl5joil386zfybx4lCQ++UFRIpm0s4M0GOPggztyWlX27faBfcRJG0pXTwv3+atYirbjjOPS2UGQHUW28IwMdp6OFHJ/WTzRe+5VPEIKaOPJhQm/z1VF++VsHCg96oQGAr3NFIAPuDi5vCKgD2QVFqAo3uNAtxAIPLGgpVUSwVKMBFJL44ADZtEPzASTt0nAuYlN4szciUVGPGqjFSoq4REk8lCWGzOBN+nTP8Wyg7tgBJ6YdcaNmmPOhPNdh3VvVbOPZA240C/21RHColJ7rVwBS9yDWxtGzXM4EdOkxvDXABQbTCvvbebPFMs8/j/beMIQMOkLfctj/nz9DSOU3uc=', 'filename': 'ArticleDSA.pdf'}, page_content='A transformação digital requer que você aprenda, desaprenda, reaprenda e permaneça nesse ciclo se deseja realmente manter sua empregabilidade. A capacidade de adaptação a novas tecnologias e a habilidade em aprender cada vez mais rápido, é o que vai diferenciar você das máquinas.'),\n",
       " Document(metadata={'filetype': 'application/pdf', 'languages': ['eng'], 'page_number': 2, 'orig_elements': 'eJxtUstu2zAQ/JWFzrZgW7ZV99YPaBqgvbmFsRZXEgGRVPlwkwb59w4pp0CKXixz9jEz5JxfKpnEiI0XraqPVPUbadtGPqyP6tSs92q3W/OpkbWormnV4dR0/bFaUWUksuLImHmpOue80pajhHKe+NmleBlFD2MEsmuaE2bu8C+t4gh0ezzsgc5O25jnzuftvq0BbZv9tt7/WNFf4NC29WEB9of6+F9kGQJUhecQxWQ3j/pJpq8zd1K9oqAkShe1s5du4hAus3dXtG3q02HXNmjo9STxeZYy+/i5KqLtkHgozs6V2KHKFDOQi03mKj77y8ujPGWv1cP3tNlI40ib2fnIFBJTwbZeeEVBEhnxHSu3KrXBs0pcOtr77FLQipWQS2VkKCW24l1NX8gkqxxJiMtmmuGHMwROSoYJ3nr0MEXPNvTOm/cUpPSgI08EhkBiZi8D/nTOOPzYUToxuXBnwECQvN+LtjfkBfJDTZ9+JuQnED5k3xoZS2a2I3sxWBCY5Oam9J4eaUke9L3u2L+BM/ssePEUVouayGALdJPfILrprMoyjXpR1jde4wTLlqEHNrJpR2ZZ8oT+om5OSjzu1V29wHsvaEReCUlhMCkJuOuRr3oq1x4IqRQ/Q75jHYiXazi9a7ljnYWHkF+lCGIcHU3a6Ch3vkXCzXXLI+KRQMZFq3i6b/63Cfkp+w5opaARmmBcnTP5FtEH9p6jvsm3nL3XH38A8+9AFA==', 'filename': 'ArticleDSA.pdf'}, page_content='Não importa sua área, seu mercado, sua graduação, sua idade ou seu gênero. O mundo está passando por uma profunda transformação digital e os empregos como conhecemos estão sendo reinventados. Aqueles que não acompanharem essa evolução natural ficarão para trás, como tantas vezes vimos na história humana. Aprenda o máximo que puder, sobre diferentes temas, desde habilidades interpessoais até habilidades técnicas. O único limite sobre o que você pode aprender é o que você impõe a si mesmo.'),\n",
       " Document(metadata={'filetype': 'application/pdf', 'languages': ['eng'], 'page_number': 2, 'orig_elements': 'eJy1k09r3DAQxb+K0TkSlqx/7i2lPaYEtrdtWGRpdlfFllxb28029LtXshsKZSk0JEf9Rk8z8x7aPiHoYYCQdt6hdxVqlTRGNwrLVnWYOy6wpkrjjjqh9wJo2zl0U6EBknEmmax5QjbGyflgEszLuTeXeEq7I/jDMWXCmqbNmt/47F06Zkql4JmO0YdUdNstFYzki1RSTtqHm+oPEILIBVDdEHadLKKM0HyZEwxlm3v/CP1mNBbQz1xwkMAmH8PO9maed+MUu3ytJlqxMuDe95AuIyzS+zu0zBwOJ3NYFtsiCAdUOoyZ7MJp6GAq65W3EzyWVdGXE6up3cBXU72PQwVDdTtOEBxMS8WR6s6EBOFo8AylPEQXKxvDnAqvHFRmEfgfxkVSZnge6ZOZJpP8d/hceuWmf4e3V5JrJjusrNljLh3HXcMkFk4rKZmley3eNDxectAt4c/hFaAatqbZNILQa2CVvDA6UevXyu7jt5Mfofqwuf0v2xnjlqnW4TwJYK44w7ruNLZNx6hpudAAb2g7J7KYKhWpV9tXoGu9/hBJBdHXwCp5oe264fyVbD+fz6T4MlsPwYKxxsFwITYOpJv+kcTDL+B/aJA=', 'filename': 'ArticleDSA.pdf'}, page_content='“Seja Bom em Aprender”. Mantenha-se em modo constante de aprendizado.\\n\\nEquipe DSA\\n\\nwww.datascienceacademy.com.br')]"
      ]
     },
     "execution_count": 12,
     "metadata": {},
     "output_type": "execute_result"
    }
   ],
   "source": [
    "documents"
   ]
  },
  {
   "cell_type": "code",
   "execution_count": 13,
   "id": "16a509c8-ea57-46f2-b8b4-70ccc4054c3e",
   "metadata": {},
   "outputs": [
    {
     "name": "stderr",
     "output_type": "stream",
     "text": [
      "INFO: Use pytorch device_name: cuda\n",
      "INFO: Load pretrained SentenceTransformer: BAAI/bge-m3\n"
     ]
    },
    {
     "data": {
      "application/vnd.jupyter.widget-view+json": {
       "model_id": "f257d97b2e004c6682d0e7a090e97701",
       "version_major": 2,
       "version_minor": 0
      },
      "text/plain": [
       "modules.json:   0%|          | 0.00/349 [00:00<?, ?B/s]"
      ]
     },
     "metadata": {},
     "output_type": "display_data"
    },
    {
     "data": {
      "application/vnd.jupyter.widget-view+json": {
       "model_id": "e59ecb34423e41b58652e08d6cfaa398",
       "version_major": 2,
       "version_minor": 0
      },
      "text/plain": [
       "config_sentence_transformers.json:   0%|          | 0.00/123 [00:00<?, ?B/s]"
      ]
     },
     "metadata": {},
     "output_type": "display_data"
    },
    {
     "data": {
      "application/vnd.jupyter.widget-view+json": {
       "model_id": "e21feccc425846a39029decf0359e44a",
       "version_major": 2,
       "version_minor": 0
      },
      "text/plain": [
       "README.md:   0%|          | 0.00/15.8k [00:00<?, ?B/s]"
      ]
     },
     "metadata": {},
     "output_type": "display_data"
    },
    {
     "data": {
      "application/vnd.jupyter.widget-view+json": {
       "model_id": "dfcc03ebb86d4730bf224e3bce43e747",
       "version_major": 2,
       "version_minor": 0
      },
      "text/plain": [
       "sentence_bert_config.json:   0%|          | 0.00/54.0 [00:00<?, ?B/s]"
      ]
     },
     "metadata": {},
     "output_type": "display_data"
    },
    {
     "data": {
      "application/vnd.jupyter.widget-view+json": {
       "model_id": "5b143dd6e0cb491b8fd2131321269df4",
       "version_major": 2,
       "version_minor": 0
      },
      "text/plain": [
       "config.json:   0%|          | 0.00/687 [00:00<?, ?B/s]"
      ]
     },
     "metadata": {},
     "output_type": "display_data"
    },
    {
     "data": {
      "application/vnd.jupyter.widget-view+json": {
       "model_id": "063ab29247a84c23bda82dddbb3d0eee",
       "version_major": 2,
       "version_minor": 0
      },
      "text/plain": [
       "pytorch_model.bin:   0%|          | 0.00/2.27G [00:00<?, ?B/s]"
      ]
     },
     "metadata": {},
     "output_type": "display_data"
    },
    {
     "data": {
      "application/vnd.jupyter.widget-view+json": {
       "model_id": "264d3d380ac64dc286c319e53cd1e656",
       "version_major": 2,
       "version_minor": 0
      },
      "text/plain": [
       "tokenizer_config.json:   0%|          | 0.00/444 [00:00<?, ?B/s]"
      ]
     },
     "metadata": {},
     "output_type": "display_data"
    },
    {
     "data": {
      "application/vnd.jupyter.widget-view+json": {
       "model_id": "efab6d43bd3d40c4b6e79e7b56201139",
       "version_major": 2,
       "version_minor": 0
      },
      "text/plain": [
       "sentencepiece.bpe.model:   0%|          | 0.00/5.07M [00:00<?, ?B/s]"
      ]
     },
     "metadata": {},
     "output_type": "display_data"
    },
    {
     "data": {
      "application/vnd.jupyter.widget-view+json": {
       "model_id": "b5e2f000044d4e66885b8018bf39c8e5",
       "version_major": 2,
       "version_minor": 0
      },
      "text/plain": [
       "tokenizer.json:   0%|          | 0.00/17.1M [00:00<?, ?B/s]"
      ]
     },
     "metadata": {},
     "output_type": "display_data"
    },
    {
     "data": {
      "application/vnd.jupyter.widget-view+json": {
       "model_id": "8c74cb986b7d4d6094b3571bb7c59af7",
       "version_major": 2,
       "version_minor": 0
      },
      "text/plain": [
       "special_tokens_map.json:   0%|          | 0.00/964 [00:00<?, ?B/s]"
      ]
     },
     "metadata": {},
     "output_type": "display_data"
    },
    {
     "data": {
      "application/vnd.jupyter.widget-view+json": {
       "model_id": "0cf85658af3342cdb17a82382b5c54f1",
       "version_major": 2,
       "version_minor": 0
      },
      "text/plain": [
       "1_Pooling/config.json:   0%|          | 0.00/191 [00:00<?, ?B/s]"
      ]
     },
     "metadata": {},
     "output_type": "display_data"
    },
    {
     "name": "stderr",
     "output_type": "stream",
     "text": [
      "INFO: Loading faiss with AVX2 support.\n",
      "INFO: Could not load library with AVX2 support due to:\n",
      "ModuleNotFoundError(\"No module named 'faiss.swigfaiss_avx2'\")\n",
      "INFO: Loading faiss.\n",
      "INFO: Successfully loaded faiss.\n"
     ]
    }
   ],
   "source": [
    "vector_db = FAISS.from_documents(documents, HuggingFaceBgeEmbeddings(model_name = \"BAAI/bge-m3\"))"
   ]
  },
  {
   "cell_type": "code",
   "execution_count": 14,
   "id": "04a48198-9cf7-43a7-a229-d3b7766485bc",
   "metadata": {},
   "outputs": [
    {
     "data": {
      "text/plain": [
       "langchain_community.vectorstores.faiss.FAISS"
      ]
     },
     "execution_count": 14,
     "metadata": {},
     "output_type": "execute_result"
    }
   ],
   "source": [
    "type(vector_db)"
   ]
  },
  {
   "cell_type": "code",
   "execution_count": 15,
   "id": "a75d601c-2893-4e6e-ab99-fbf14b0d31fe",
   "metadata": {},
   "outputs": [
    {
     "name": "stdout",
     "output_type": "stream",
     "text": [
      "FAISS vector store integration.\n",
      "\n",
      "    See [The FAISS Library](https://arxiv.org/pdf/2401.08281) paper.\n",
      "\n",
      "    Setup:\n",
      "        Install ``langchain_community`` and ``faiss-cpu`` python packages.\n",
      "\n",
      "        .. code-block:: bash\n",
      "\n",
      "            pip install -qU langchain_community faiss-cpu\n",
      "\n",
      "    Key init args — indexing params:\n",
      "        embedding_function: Embeddings\n",
      "            Embedding function to use.\n",
      "\n",
      "    Key init args — client params:\n",
      "        index: Any\n",
      "            FAISS index to use.\n",
      "        docstore: Docstore\n",
      "            Docstore to use.\n",
      "        index_to_docstore_id: Dict[int, str]\n",
      "            Mapping of index to docstore id.\n",
      "\n",
      "    Instantiate:\n",
      "        .. code-block:: python\n",
      "\n",
      "            import faiss\n",
      "            from langchain_community.vectorstores import FAISS\n",
      "            from langchain_community.docstore.in_memory import InMemoryDocstore\n",
      "            from langchain_openai import OpenAIEmbeddings\n",
      "\n",
      "            index = faiss.IndexFlatL2(len(OpenAIEmbeddings().embed_query(\"hello world\")))\n",
      "\n",
      "            vector_store = FAISS(\n",
      "                embedding_function=OpenAIEmbeddings(),\n",
      "                index=index,\n",
      "                docstore= InMemoryDocstore(),\n",
      "                index_to_docstore_id={}\n",
      "            )\n",
      "\n",
      "    Add Documents:\n",
      "        .. code-block:: python\n",
      "\n",
      "            from langchain_core.documents import Document\n",
      "\n",
      "            document_1 = Document(page_content=\"foo\", metadata={\"baz\": \"bar\"})\n",
      "            document_2 = Document(page_content=\"thud\", metadata={\"bar\": \"baz\"})\n",
      "            document_3 = Document(page_content=\"i will be deleted :(\")\n",
      "\n",
      "            documents = [document_1, document_2, document_3]\n",
      "            ids = [\"1\", \"2\", \"3\"]\n",
      "            vector_store.add_documents(documents=documents, ids=ids)\n",
      "\n",
      "    Delete Documents:\n",
      "        .. code-block:: python\n",
      "\n",
      "            vector_store.delete(ids=[\"3\"])\n",
      "\n",
      "    Search:\n",
      "        .. code-block:: python\n",
      "\n",
      "            results = vector_store.similarity_search(query=\"thud\",k=1)\n",
      "            for doc in results:\n",
      "                print(f\"* {doc.page_content} [{doc.metadata}]\")\n",
      "\n",
      "        .. code-block:: python\n",
      "\n",
      "            * thud [{'bar': 'baz'}]\n",
      "\n",
      "    Search with filter:\n",
      "        .. code-block:: python\n",
      "\n",
      "            results = vector_store.similarity_search(query=\"thud\",k=1,filter={\"bar\": \"baz\"})\n",
      "            for doc in results:\n",
      "                print(f\"* {doc.page_content} [{doc.metadata}]\")\n",
      "\n",
      "        .. code-block:: python\n",
      "\n",
      "            * thud [{'bar': 'baz'}]\n",
      "\n",
      "    Search with score:\n",
      "        .. code-block:: python\n",
      "\n",
      "            results = vector_store.similarity_search_with_score(query=\"qux\",k=1)\n",
      "            for doc, score in results:\n",
      "                print(f\"* [SIM={score:3f}] {doc.page_content} [{doc.metadata}]\")\n",
      "\n",
      "        .. code-block:: python\n",
      "\n",
      "            * [SIM=0.335304] foo [{'baz': 'bar'}]\n",
      "\n",
      "    Async:\n",
      "        .. code-block:: python\n",
      "\n",
      "            # add documents\n",
      "            # await vector_store.aadd_documents(documents=documents, ids=ids)\n",
      "\n",
      "            # delete documents\n",
      "            # await vector_store.adelete(ids=[\"3\"])\n",
      "\n",
      "            # search\n",
      "            # results = vector_store.asimilarity_search(query=\"thud\",k=1)\n",
      "\n",
      "            # search with score\n",
      "            results = await vector_store.asimilarity_search_with_score(query=\"qux\",k=1)\n",
      "            for doc,score in results:\n",
      "                print(f\"* [SIM={score:3f}] {doc.page_content} [{doc.metadata}]\")\n",
      "\n",
      "        .. code-block:: python\n",
      "\n",
      "            * [SIM=0.335304] foo [{'baz': 'bar'}]\n",
      "\n",
      "    Use as Retriever:\n",
      "        .. code-block:: python\n",
      "\n",
      "            retriever = vector_store.as_retriever(\n",
      "                search_type=\"mmr\",\n",
      "                search_kwargs={\"k\": 1, \"fetch_k\": 2, \"lambda_mult\": 0.5},\n",
      "            )\n",
      "            retriever.invoke(\"thud\")\n",
      "\n",
      "        .. code-block:: python\n",
      "\n",
      "            [Document(metadata={'bar': 'baz'}, page_content='thud')]\n",
      "\n",
      "    \n"
     ]
    }
   ],
   "source": [
    "print(vector_db.__doc__)"
   ]
  },
  {
   "cell_type": "code",
   "execution_count": 16,
   "id": "9d78cfd2-422b-4247-a30f-32958320945f",
   "metadata": {},
   "outputs": [],
   "source": [
    "retriver = vector_db.as_retriever(search_type = 'similarity', search_kwargs = {'k': 4})"
   ]
  },
  {
   "cell_type": "markdown",
   "id": "a95740c0-55ab-4b64-994b-87a72b3241b2",
   "metadata": {},
   "source": [
    "## Carregando o LLM Open-Source com Processo de Quantização"
   ]
  },
  {
   "cell_type": "code",
   "execution_count": 17,
   "id": "01c66400-f750-453d-a98d-918dc81a5e24",
   "metadata": {},
   "outputs": [
    {
     "name": "stdin",
     "output_type": "stream",
     "text": [
      "Cole sua api aqui:  ········\n"
     ]
    }
   ],
   "source": [
    "hf_api = getpass(\"Cole sua api aqui: \")"
   ]
  },
  {
   "cell_type": "code",
   "execution_count": 18,
   "id": "2f7bf090-bbe9-466d-bd76-c9dd389cf6cb",
   "metadata": {},
   "outputs": [],
   "source": [
    "HfFolder.save_token(hf_api)"
   ]
  },
  {
   "cell_type": "code",
   "execution_count": 19,
   "id": "166f938c-7dee-432f-907e-08ca728cd2a0",
   "metadata": {},
   "outputs": [],
   "source": [
    "nome_llm = \"meta-llama/Meta-Llama-3-8B-Instruct\""
   ]
  },
  {
   "cell_type": "code",
   "execution_count": 20,
   "id": "0b7ab747-8055-48d7-a1cf-094a9c14f71a",
   "metadata": {},
   "outputs": [],
   "source": [
    "bnb_config = BitsAndBytesConfig(load_in_4bit= True,\n",
    "                                bnb_4bit_use_double_quant= True,\n",
    "                                bnb_4bit_quant_type= 'nf4',\n",
    "                                bnb_4bit_compute_dtype= torch.bfloat16)"
   ]
  },
  {
   "cell_type": "code",
   "execution_count": 21,
   "id": "b84851de-596d-45c0-839c-cc016a63ecd3",
   "metadata": {},
   "outputs": [
    {
     "data": {
      "application/vnd.jupyter.widget-view+json": {
       "model_id": "6ae6ed9a049847d5b42e5cb946bb2e42",
       "version_major": 2,
       "version_minor": 0
      },
      "text/plain": [
       "config.json:   0%|          | 0.00/654 [00:00<?, ?B/s]"
      ]
     },
     "metadata": {},
     "output_type": "display_data"
    },
    {
     "name": "stderr",
     "output_type": "stream",
     "text": [
      "`low_cpu_mem_usage` was None, now default to True since model is quantized.\n"
     ]
    },
    {
     "data": {
      "application/vnd.jupyter.widget-view+json": {
       "model_id": "df93028ca7974b2ba62aa27a388227f8",
       "version_major": 2,
       "version_minor": 0
      },
      "text/plain": [
       "model.safetensors.index.json:   0%|          | 0.00/23.9k [00:00<?, ?B/s]"
      ]
     },
     "metadata": {},
     "output_type": "display_data"
    },
    {
     "data": {
      "application/vnd.jupyter.widget-view+json": {
       "model_id": "922ae0397fc5461a88946a5a65239dfe",
       "version_major": 2,
       "version_minor": 0
      },
      "text/plain": [
       "Downloading shards:   0%|          | 0/4 [00:00<?, ?it/s]"
      ]
     },
     "metadata": {},
     "output_type": "display_data"
    },
    {
     "data": {
      "application/vnd.jupyter.widget-view+json": {
       "model_id": "0e24624c935243c3bf3a60e0ba784866",
       "version_major": 2,
       "version_minor": 0
      },
      "text/plain": [
       "model-00001-of-00004.safetensors:   0%|          | 0.00/4.98G [00:00<?, ?B/s]"
      ]
     },
     "metadata": {},
     "output_type": "display_data"
    },
    {
     "data": {
      "application/vnd.jupyter.widget-view+json": {
       "model_id": "19b5073c441b489596f1677c4a8ed670",
       "version_major": 2,
       "version_minor": 0
      },
      "text/plain": [
       "model-00002-of-00004.safetensors:   0%|          | 0.00/5.00G [00:00<?, ?B/s]"
      ]
     },
     "metadata": {},
     "output_type": "display_data"
    },
    {
     "data": {
      "application/vnd.jupyter.widget-view+json": {
       "model_id": "94bae9a20fcb4cbaa6509cfb768d55ad",
       "version_major": 2,
       "version_minor": 0
      },
      "text/plain": [
       "model-00003-of-00004.safetensors:   0%|          | 0.00/4.92G [00:00<?, ?B/s]"
      ]
     },
     "metadata": {},
     "output_type": "display_data"
    },
    {
     "data": {
      "application/vnd.jupyter.widget-view+json": {
       "model_id": "bae4f0b6943e406abf60a0d3d0d1125b",
       "version_major": 2,
       "version_minor": 0
      },
      "text/plain": [
       "model-00004-of-00004.safetensors:   0%|          | 0.00/1.17G [00:00<?, ?B/s]"
      ]
     },
     "metadata": {},
     "output_type": "display_data"
    },
    {
     "data": {
      "application/vnd.jupyter.widget-view+json": {
       "model_id": "e94db73895ed4b599a6a1a98b5381eb6",
       "version_major": 2,
       "version_minor": 0
      },
      "text/plain": [
       "Loading checkpoint shards:   0%|          | 0/4 [00:00<?, ?it/s]"
      ]
     },
     "metadata": {},
     "output_type": "display_data"
    },
    {
     "data": {
      "application/vnd.jupyter.widget-view+json": {
       "model_id": "0945bae50e324105a0ac6ff75f4250cd",
       "version_major": 2,
       "version_minor": 0
      },
      "text/plain": [
       "generation_config.json:   0%|          | 0.00/187 [00:00<?, ?B/s]"
      ]
     },
     "metadata": {},
     "output_type": "display_data"
    }
   ],
   "source": [
    "model = AutoModelForCausalLM.from_pretrained(nome_llm, quantization_config = bnb_config)"
   ]
  },
  {
   "cell_type": "code",
   "execution_count": 22,
   "id": "4aeb2423-5605-478f-9469-33c07819c318",
   "metadata": {},
   "outputs": [
    {
     "data": {
      "application/vnd.jupyter.widget-view+json": {
       "model_id": "f893f9fd092d49179269a30dea8546cb",
       "version_major": 2,
       "version_minor": 0
      },
      "text/plain": [
       "tokenizer_config.json:   0%|          | 0.00/51.0k [00:00<?, ?B/s]"
      ]
     },
     "metadata": {},
     "output_type": "display_data"
    },
    {
     "data": {
      "application/vnd.jupyter.widget-view+json": {
       "model_id": "7e6330c28eb14514a2b9bc051f8903a7",
       "version_major": 2,
       "version_minor": 0
      },
      "text/plain": [
       "tokenizer.json:   0%|          | 0.00/9.09M [00:00<?, ?B/s]"
      ]
     },
     "metadata": {},
     "output_type": "display_data"
    },
    {
     "data": {
      "application/vnd.jupyter.widget-view+json": {
       "model_id": "8c60ae1fa93b484b82331f9aeffd63e3",
       "version_major": 2,
       "version_minor": 0
      },
      "text/plain": [
       "special_tokens_map.json:   0%|          | 0.00/73.0 [00:00<?, ?B/s]"
      ]
     },
     "metadata": {},
     "output_type": "display_data"
    }
   ],
   "source": [
    "tokenizador = AutoTokenizer.from_pretrained(nome_llm)"
   ]
  },
  {
   "cell_type": "markdown",
   "id": "c39f33f8-2d2c-440f-a99e-0d3a5fc36572",
   "metadata": {},
   "source": [
    "## Preparando o Pipeline"
   ]
  },
  {
   "cell_type": "code",
   "execution_count": 23,
   "id": "1063fc21-821d-4713-a56e-8d0327478eaa",
   "metadata": {},
   "outputs": [],
   "source": [
    "tokens_terminators = [tokenizador.eos_token_id, tokenizador.convert_tokens_to_ids('<|eot_id|>')]"
   ]
  },
  {
   "cell_type": "code",
   "execution_count": 25,
   "id": "01df2a55-f713-4f57-b81f-cd532d4ebbd3",
   "metadata": {},
   "outputs": [],
   "source": [
    "text_generation_pipeline = pipeline(model = model,\n",
    "                                   tokenizer = tokenizador,\n",
    "                                   task = 'text-generation',\n",
    "                                   temperature = 0.2,\n",
    "                                   do_sample = True,\n",
    "                                   repetition_penalty = 1.1,\n",
    "                                   return_full_text = False,\n",
    "                                   max_new_tokens = 200,\n",
    "                                   eos_token_id = tokens_terminators)"
   ]
  },
  {
   "cell_type": "code",
   "execution_count": 26,
   "id": "193de415-2830-4aa4-a62a-b5b30927710f",
   "metadata": {},
   "outputs": [],
   "source": [
    "llm = HuggingFacePipeline(pipeline = text_generation_pipeline)"
   ]
  },
  {
   "cell_type": "markdown",
   "id": "1b85070a-c4a6-426b-a9fc-bcd095dccd40",
   "metadata": {},
   "source": [
    "## Definindo o Prompt Template com LangChain"
   ]
  },
  {
   "cell_type": "markdown",
   "id": "c762664f-8ce6-47b8-bdfe-32979d3b360a",
   "metadata": {},
   "source": [
    "Formato do prompt:\n",
    "\n",
    "<|begin_of_text|><|start_header_id|>system<|end_header_id|>\n",
    "\n",
    "{{ system_prompt }}<|eot_id|><|start_header_id|>user<|end_header_id|>\n",
    "\n",
    "{{ user_msg_1 }}<|eot_id|><|start_header_id|>assistant<|end_header_id|>\n",
    "\n",
    "{{ model_answer_1 }}<|eot_id|>"
   ]
  },
  {
   "cell_type": "code",
   "execution_count": 27,
   "id": "53e331bd-abcf-4cf1-a547-a46f499692bb",
   "metadata": {},
   "outputs": [],
   "source": [
    "prompt = \"\"\"\n",
    "<|start_header_id|>user<|end_header_id|>\n",
    "Você é um assistente para tirar dúvidas sobre Inteligência Artificial.\n",
    "Você recebe as partes extraídas de um documento longo e uma pergunta. Forneça uma resposta coloquial.\n",
    "Se você não souber a resposta, basta dizer “Não sei”. Não invente uma resposta. Responda em português do Brasil.\n",
    "Pergunta: {question}\n",
    "Contexto: {context}<|eot_id|><|start_header_id|>assistant<|end_header_id|>\n",
    "\"\"\""
   ]
  },
  {
   "cell_type": "code",
   "execution_count": 29,
   "id": "05947b07-f916-4f20-bcf1-a504dc6ff2b3",
   "metadata": {},
   "outputs": [],
   "source": [
    "prompt = PromptTemplate(input_variables = ['context', 'question'], template = prompt)"
   ]
  },
  {
   "cell_type": "code",
   "execution_count": 30,
   "id": "b72b89b9-9a37-4aed-b134-7d48c796d5a3",
   "metadata": {},
   "outputs": [],
   "source": [
    "llm_chain = prompt | llm | StrOutputParser()"
   ]
  },
  {
   "cell_type": "code",
   "execution_count": 31,
   "id": "dcbad829-89e7-4d26-9275-7d235b7f323d",
   "metadata": {},
   "outputs": [],
   "source": [
    "chain = {'context': retriver, 'question': RunnablePassthrough()} | llm_chain"
   ]
  },
  {
   "cell_type": "markdown",
   "id": "a06ec3ee-21b5-4d14-8d8b-26307d62fe5f",
   "metadata": {},
   "source": [
    "## Usando o LLM para Responder Perguntas Usando o VectorDB como Fonte de Consulta"
   ]
  },
  {
   "cell_type": "code",
   "execution_count": 32,
   "id": "a3655212-b94a-4c69-a350-108ca99f964d",
   "metadata": {},
   "outputs": [],
   "source": [
    "pergunta1 = 'O que a pandemia do Covid-19 gerou no desenvolvimento digital?'"
   ]
  },
  {
   "cell_type": "code",
   "execution_count": 33,
   "id": "a3a44368-5844-4dc8-b2ea-77f255b9f251",
   "metadata": {},
   "outputs": [
    {
     "name": "stderr",
     "output_type": "stream",
     "text": [
      "Setting `pad_token_id` to `eos_token_id`:None for open-end generation.\n"
     ]
    },
    {
     "data": {
      "text/plain": [
       "'A pandemia do Covid-19 gerou um impulso significativo no desenvolvimento digital em todo o mundo. Com a necessidade de mudanças rápidas em como as pessoas trabalham, se comunicam e se conectam, muitas empresas e indivíduos foram obrigados a adaptar-se às tecnologias digitais para sobreviver.\\n\\nIsso incluiu a expansão do uso de ferramentas de colaboração remota, como videoconferências e aplicativos de comunicação instantânea, bem como a implementação de soluções de trabalho em home office. Além disso, a pandemia também acelerou a adoção de tecnologias emergentes, como inteligência artificial, machine learning e blockchain, para melhorar a eficiência e reduzir custos.\\n\\nNo entanto, essa rápida transição digital também trouxe desafios, como a falta de habilidades digitais em muitos'"
      ]
     },
     "execution_count": 33,
     "metadata": {},
     "output_type": "execute_result"
    }
   ],
   "source": [
    "chain.invoke(pergunta1)"
   ]
  },
  {
   "cell_type": "code",
   "execution_count": 34,
   "id": "213687e3-8cf9-4e5d-9daf-346f4d88ef3b",
   "metadata": {},
   "outputs": [],
   "source": [
    "pergunta2 = 'Quanto as principais economias do mundo podem perder até 2028 em crescimento potencial?'"
   ]
  },
  {
   "cell_type": "code",
   "execution_count": 35,
   "id": "c69e05b9-7731-44e9-a571-f9367bcf4fde",
   "metadata": {},
   "outputs": [
    {
     "name": "stderr",
     "output_type": "stream",
     "text": [
      "Setting `pad_token_id` to `eos_token_id`:None for open-end generation.\n"
     ]
    },
    {
     "data": {
      "text/plain": [
       "'Não sei. A informação fornecida não especifica quantos trilhões de dólares as principais economias do mundo podem perder em crescimento potencial até 2028. No entanto, a fonte menciona que a empresa global de consultoria e serviços profissionais Accenture estima que as principais economias do mundo podem perder US$ 11,5 trilhões em crescimento potencial até 2028 se não conseguirem preencher a lacuna de habilidades.'"
      ]
     },
     "execution_count": 35,
     "metadata": {},
     "output_type": "execute_result"
    }
   ],
   "source": [
    "chain.invoke(pergunta2)"
   ]
  }
 ],
 "metadata": {
  "kernelspec": {
   "display_name": "Python 3 (ipykernel)",
   "language": "python",
   "name": "python3"
  },
  "language_info": {
   "codemirror_mode": {
    "name": "ipython",
    "version": 3
   },
   "file_extension": ".py",
   "mimetype": "text/x-python",
   "name": "python",
   "nbconvert_exporter": "python",
   "pygments_lexer": "ipython3",
   "version": "3.10.15"
  }
 },
 "nbformat": 4,
 "nbformat_minor": 5
}
